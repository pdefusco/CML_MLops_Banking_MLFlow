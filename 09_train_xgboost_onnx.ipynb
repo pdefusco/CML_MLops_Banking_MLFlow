{
 "cells": [
  {
   "cell_type": "code",
   "execution_count": 1,
   "id": "7ac5b304-e560-44f7-b3bd-8e68f6417536",
   "metadata": {},
   "outputs": [],
   "source": [
    "#****************************************************************************\n",
    "# (C) Cloudera, Inc. 2020-2023\n",
    "#  All rights reserved.\n",
    "#\n",
    "#  Applicable Open Source License: GNU Affero General Public License v3.0\n",
    "#\n",
    "#  NOTE: Cloudera open source products are modular software products\n",
    "#  made up of hundreds of individual components, each of which was\n",
    "#  individually copyrighted.  Each Cloudera open source product is a\n",
    "#  collective work under U.S. Copyright Law. Your license to use the\n",
    "#  collective work is as provided in your written agreement with\n",
    "#  Cloudera.  Used apart from the collective work, this file is\n",
    "#  licensed for your use pursuant to the open source license\n",
    "#  identified above.\n",
    "#\n",
    "#  This code is provided to you pursuant a written agreement with\n",
    "#  (i) Cloudera, Inc. or (ii) a third-party authorized to distribute\n",
    "#  this code. If you do not have a written agreement with Cloudera nor\n",
    "#  with an authorized and properly licensed third party, you do not\n",
    "#  have any rights to access nor to use this code.\n",
    "#\n",
    "#  Absent a written agreement with Cloudera, Inc. (“Cloudera”) to the\n",
    "#  contrary, A) CLOUDERA PROVIDES THIS CODE TO YOU WITHOUT WARRANTIES OF ANY\n",
    "#  KIND; (B) CLOUDERA DISCLAIMS ANY AND ALL EXPRESS AND IMPLIED\n",
    "#  WARRANTIES WITH RESPECT TO THIS CODE, INCLUDING BUT NOT LIMITED TO\n",
    "#  IMPLIED WARRANTIES OF TITLE, NON-INFRINGEMENT, MERCHANTABILITY AND\n",
    "#  FITNESS FOR A PARTICULAR PURPOSE; (C) CLOUDERA IS NOT LIABLE TO YOU,\n",
    "#  AND WILL NOT DEFEND, INDEMNIFY, NOR HOLD YOU HARMLESS FOR ANY CLAIMS\n",
    "#  ARISING FROM OR RELATED TO THE CODE; AND (D)WITH RESPECT TO YOUR EXERCISE\n",
    "#  OF ANY RIGHTS GRANTED TO YOU FOR THE CODE, CLOUDERA IS NOT LIABLE FOR ANY\n",
    "#  DIRECT, INDIRECT, INCIDENTAL, SPECIAL, EXEMPLARY, PUNITIVE OR\n",
    "#  CONSEQUENTIAL DAMAGES INCLUDING, BUT NOT LIMITED TO, DAMAGES\n",
    "#  RELATED TO LOST REVENUE, LOST PROFITS, LOSS OF INCOME, LOSS OF\n",
    "#  BUSINESS ADVANTAGE OR UNAVAILABILITY, OR LOSS OR CORRUPTION OF\n",
    "#  DATA.\n",
    "#\n",
    "# #  Author(s): Paul de Fusco\n",
    "#***************************************************************************/"
   ]
  },
  {
   "cell_type": "code",
   "execution_count": 9,
   "id": "d49e02a9-4fab-4f0b-83b1-7e7c51942369",
   "metadata": {},
   "outputs": [],
   "source": [
    "import os, warnings, sys, logging\n",
    "import mlflow\n",
    "import pandas as pd\n",
    "import numpy as np\n",
    "from sklearn.model_selection import train_test_split\n",
    "from sklearn.metrics import accuracy_score, recall_score\n",
    "import mlflow.sklearn\n",
    "from xgboost import XGBClassifier\n",
    "from datetime import date\n",
    "import cml.data_v1 as cmldata\n",
    "import pyspark.pandas as ps\n",
    "\n",
    "import onnxmltools\n",
    "from urllib.parse import urlparse\n",
    "from sklearn.preprocessing import FunctionTransformer\n",
    "from mlflow.models import infer_signature\n",
    "#from onnxconverter_common import FloatTensorType\n",
    "from onnxmltools.convert.common.data_types import FloatTensorType, Int64TensorType\n",
    "from onnxmltools import convert_xgboost "
   ]
  },
  {
   "cell_type": "code",
   "execution_count": 3,
   "id": "feba0dc7-3807-44af-aef4-5b546853a41c",
   "metadata": {},
   "outputs": [
    {
     "data": {
      "text/plain": [
       "<Experiment: artifact_location='/home/cdsw/.experiments/eyzb-7z6h-z4j4-59sz', creation_time=None, experiment_id='eyzb-7z6h-z4j4-59sz', last_update_time=None, lifecycle_stage='active', name='xgb-cc-fraud-pauldefusco', tags={}>"
      ]
     },
     "execution_count": 3,
     "metadata": {},
     "output_type": "execute_result"
    }
   ],
   "source": [
    "USERNAME = os.environ[\"PROJECT_OWNER\"]\n",
    "DBNAME = \"mlops_\"+USERNAME\n",
    "CONNECTION_NAME = \"rapids-demo-aw-dl\"\n",
    "\n",
    "DATE = date.today()\n",
    "EXPERIMENT_NAME = \"xgb-cc-fraud-{0}\".format(USERNAME)\n",
    "\n",
    "mlflow.set_experiment(EXPERIMENT_NAME)"
   ]
  },
  {
   "cell_type": "code",
   "execution_count": 4,
   "id": "dc844d05-11c8-47b6-bf2c-8b91096100ef",
   "metadata": {},
   "outputs": [
    {
     "name": "stderr",
     "output_type": "stream",
     "text": [
      "Setting spark.hadoop.yarn.resourcemanager.principal to pauldefusco\n"
     ]
    },
    {
     "name": "stdout",
     "output_type": "stream",
     "text": [
      "Spark Application Id:spark-902c8f215b744db68b5f9c2f717c4f1b\n"
     ]
    }
   ],
   "source": [
    "conn = cmldata.get_connection(CONNECTION_NAME)\n",
    "spark = conn.get_spark_session()"
   ]
  },
  {
   "cell_type": "code",
   "execution_count": 5,
   "id": "7d68ac54-1da0-465a-8788-956299c8a15f",
   "metadata": {},
   "outputs": [],
   "source": [
    "#df.columns"
   ]
  },
  {
   "cell_type": "code",
   "execution_count": 6,
   "id": "934b0480-691c-4570-8bd7-082f8fb21666",
   "metadata": {},
   "outputs": [
    {
     "name": "stderr",
     "output_type": "stream",
     "text": [
      "/opt/spark/python/lib/pyspark.zip/pyspark/pandas/utils.py:1016: PandasAPIOnSparkAdviceWarning: If `index_col` is not specified for `read_table`, the default index is attached which can cause additional overhead.\n",
      "Hive Session ID = bc9ae951-7b0a-4001-ae4e-c9f376adef77\n",
      "/opt/spark/python/lib/pyspark.zip/pyspark/pandas/utils.py:1016: PandasAPIOnSparkAdviceWarning: `to_pandas` loads all data into the driver's memory. It should only be used if the resulting pandas DataFrame is expected to be small.\n",
      "                                                                                \r"
     ]
    }
   ],
   "source": [
    "df_from_sql = ps.read_table('{0}.transactions_{1}'.format(DBNAME, USERNAME))\n",
    "df = df_from_sql.to_pandas()\n",
    "\n",
    "y = df[\"fraud_trx\"]\n",
    "X = df.drop(columns=[\"fraud_trx\"])\n",
    "X.columns = ['f' + str(i) for i in range(len(X.columns))]\n",
    "\n",
    "test_size = 0.3\n",
    "X_train, X_test, y_train, y_test = train_test_split(X, y, test_size=test_size)"
   ]
  },
  {
   "cell_type": "code",
   "execution_count": 7,
   "id": "c8bf0747-b835-40ff-ab44-0b0a37cdc44e",
   "metadata": {},
   "outputs": [
    {
     "data": {
      "text/plain": [
       "f0     float32\n",
       "f1     float32\n",
       "f2     float32\n",
       "f3     float32\n",
       "f4     float32\n",
       "f5     float32\n",
       "f6     float32\n",
       "f7     float32\n",
       "f8     float32\n",
       "f9     float32\n",
       "f10    float32\n",
       "f11    float32\n",
       "f12    float32\n",
       "f13    float32\n",
       "dtype: object"
      ]
     },
     "execution_count": 7,
     "metadata": {},
     "output_type": "execute_result"
    }
   ],
   "source": [
    "X_train.dtypes"
   ]
  },
  {
   "cell_type": "code",
   "execution_count": 10,
   "id": "39c58dc9-b649-4302-90b6-619b5e003986",
   "metadata": {},
   "outputs": [
    {
     "name": "stderr",
     "output_type": "stream",
     "text": [
      "/home/cdsw/.local/lib/python3.11/site-packages/xgboost/training.py:183: UserWarning: [21:50:13] WARNING: /workspace/src/learner.cc:738: \n",
      "Parameters: { \"use_label_encoder\" } are not used.\n",
      "\n",
      "  bst.update(dtrain, iteration=i, fobj=obj)\n"
     ]
    },
    {
     "name": "stdout",
     "output_type": "stream",
     "text": [
      "Accuracy: 95.20%\n",
      "Test Size: 30.00%\n"
     ]
    },
    {
     "name": "stderr",
     "output_type": "stream",
     "text": [
      "Successfully registered model 'fraud-detector-onnx-xgboost'.\n",
      "2025/06/23 21:50:33 INFO mlflow.store.model_registry.abstract_store: Waiting up to 300 seconds for model version to finish creation. Model name: fraud-detector-onnx-xgboost, version 2\n",
      "Created version '2' of model 'fraud-detector-onnx-xgboost'.\n"
     ]
    }
   ],
   "source": [
    "with mlflow.start_run():\n",
    "\n",
    "    model = XGBClassifier(use_label_encoder=False, eval_metric=\"logloss\")\n",
    "\n",
    "    # Step 1: cambiar test_size linea 69 y recorrer\n",
    "    # Step 2: cambiar linea 74, agregar linea 97, y recorrer\n",
    "      # linea 75: model = XGBClassifier(use_label_encoder=False, max_depth=4, eval_metric=\"logloss\")\n",
    "      # linea 97: mlflow.log_param(\"max_depth\", 4)\n",
    "    # Step 3: cambiar linea 74 y 97, agregar linea 98, y recorrer\n",
    "      # linea 75: model = XGBClassifier(use_label_encoder=False, max_depth=2, max_leaf_nodes=5, eval_metric=\"logloss\")\n",
    "      # linea 97: mlflow.log_param(\"max_depth\", 2)\n",
    "      # linea 98: mlflow.log_param(\"max_leaf_nodes\", 5)\n",
    "\n",
    "    model.fit(X_train, y_train, eval_set=[(X_test, y_test)], verbose=False)\n",
    "    y_pred = model.predict(X_test)\n",
    "\n",
    "    accuracy = accuracy_score(y_test, y_pred)\n",
    "\n",
    "    print(\"Accuracy: %.2f%%\" % (accuracy * 100.0))\n",
    "    print(\"Test Size: %.2f%%\" % (test_size * 100.0))\n",
    "\n",
    "    mlflow.log_param(\"accuracy\", accuracy)\n",
    "    mlflow.log_param(\"test_size\", test_size)\n",
    "\n",
    "    # Step 2:\n",
    "    # Step 3:\n",
    "\n",
    "    num_features = X_train.shape[1]\n",
    "    #initial_type = [(\"input\", FloatTensorType([None, num_features]))]\n",
    "\n",
    "    #schema = [(\"X\", FloatTensorType([None, X_train.shape[1]]))]\n",
    "    schema = [(\"input\", FloatTensorType([None, num_features]))]\n",
    "    onnx_model = convert_xgboost(\n",
    "        model, initial_types = schema)\n",
    "    \n",
    "    model_signature = infer_signature(X_train, y_pred)\n",
    "    #onnx_model = onnxmltools.convert_xgboost(model, initial_types=initial_type)\n",
    "    #onnxmltools.utils.save_model(onnx_model, \"fraud_classifier.onnx\")\n",
    "    mlflow.onnx.log_model(onnx_model, \"fraud-clf-onnx-xgboost\",\n",
    "                          registered_model_name=\"fraud-detector-onnx-xgboost\",\n",
    "                          signature=model_signature)"
   ]
  },
  {
   "cell_type": "code",
   "execution_count": null,
   "id": "85dddd56-e691-40fa-a081-9ab529b6699d",
   "metadata": {},
   "outputs": [],
   "source": []
  }
 ],
 "metadata": {
  "kernelspec": {
   "display_name": "Python 3 (ipykernel)",
   "language": "python",
   "name": "python3"
  },
  "language_info": {
   "codemirror_mode": {
    "name": "ipython",
    "version": 3
   },
   "file_extension": ".py",
   "mimetype": "text/x-python",
   "name": "python",
   "nbconvert_exporter": "python",
   "pygments_lexer": "ipython3",
   "version": "3.11.11"
  }
 },
 "nbformat": 4,
 "nbformat_minor": 5
}
