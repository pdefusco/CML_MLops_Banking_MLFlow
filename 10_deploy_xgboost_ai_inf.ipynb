{
 "cells": [
  {
   "cell_type": "code",
   "execution_count": 1,
   "id": "433c9253-68a8-4094-9ad3-bc81dc36517a",
   "metadata": {},
   "outputs": [],
   "source": [
    "#****************************************************************************\n",
    "# (C) Cloudera, Inc. 2020-2023\n",
    "#  All rights reserved.\n",
    "#\n",
    "#  Applicable Open Source License: GNU Affero General Public License v3.0\n",
    "#\n",
    "#  NOTE: Cloudera open source products are modular software products\n",
    "#  made up of hundreds of individual components, each of which was\n",
    "#  individually copyrighted.  Each Cloudera open source product is a\n",
    "#  collective work under U.S. Copyright Law. Your license to use the\n",
    "#  collective work is as provided in your written agreement with\n",
    "#  Cloudera.  Used apart from the collective work, this file is\n",
    "#  licensed for your use pursuant to the open source license\n",
    "#  identified above.\n",
    "#\n",
    "#  This code is provided to you pursuant a written agreement with\n",
    "#  (i) Cloudera, Inc. or (ii) a third-party authorized to distribute\n",
    "#  this code. If you do not have a written agreement with Cloudera nor\n",
    "#  with an authorized and properly licensed third party, you do not\n",
    "#  have any rights to access nor to use this code.\n",
    "#\n",
    "#  Absent a written agreement with Cloudera, Inc. (“Cloudera”) to the\n",
    "#  contrary, A) CLOUDERA PROVIDES THIS CODE TO YOU WITHOUT WARRANTIES OF ANY\n",
    "#  KIND; (B) CLOUDERA DISCLAIMS ANY AND ALL EXPRESS AND IMPLIED\n",
    "#  WARRANTIES WITH RESPECT TO THIS CODE, INCLUDING BUT NOT LIMITED TO\n",
    "#  IMPLIED WARRANTIES OF TITLE, NON-INFRINGEMENT, MERCHANTABILITY AND\n",
    "#  FITNESS FOR A PARTICULAR PURPOSE; (C) CLOUDERA IS NOT LIABLE TO YOU,\n",
    "#  AND WILL NOT DEFEND, INDEMNIFY, NOR HOLD YOU HARMLESS FOR ANY CLAIMS\n",
    "#  ARISING FROM OR RELATED TO THE CODE; AND (D)WITH RESPECT TO YOUR EXERCISE\n",
    "#  OF ANY RIGHTS GRANTED TO YOU FOR THE CODE, CLOUDERA IS NOT LIABLE FOR ANY\n",
    "#  DIRECT, INDIRECT, INCIDENTAL, SPECIAL, EXEMPLARY, PUNITIVE OR\n",
    "#  CONSEQUENTIAL DAMAGES INCLUDING, BUT NOT LIMITED TO, DAMAGES\n",
    "#  RELATED TO LOST REVENUE, LOST PROFITS, LOSS OF INCOME, LOSS OF\n",
    "#  BUSINESS ADVANTAGE OR UNAVAILABILITY, OR LOSS OR CORRUPTION OF\n",
    "#  DATA.\n",
    "#\n",
    "# #  Author(s): Paul de Fusco\n",
    "#***************************************************************************/"
   ]
  },
  {
   "cell_type": "code",
   "execution_count": 1,
   "id": "e5c492c3-1adc-4123-b010-224669161611",
   "metadata": {},
   "outputs": [
    {
     "name": "stdout",
     "output_type": "stream",
     "text": [
      "Collecting open-inference-openapi\n",
      "  Using cached open_inference_openapi-2.0.0.1-py3-none-any.whl.metadata (5.6 kB)\n",
      "Requirement already satisfied: httpx in /usr/local/lib/python3.11/site-packages (from open-inference-openapi) (0.27.2)\n",
      "Requirement already satisfied: pydantic>1 in /usr/local/lib/python3.11/site-packages (from open-inference-openapi) (2.10.2)\n",
      "Requirement already satisfied: annotated-types>=0.6.0 in /usr/local/lib/python3.11/site-packages (from pydantic>1->open-inference-openapi) (0.7.0)\n",
      "Requirement already satisfied: pydantic-core==2.27.1 in /usr/local/lib/python3.11/site-packages (from pydantic>1->open-inference-openapi) (2.27.1)\n",
      "Requirement already satisfied: typing-extensions>=4.12.2 in /usr/local/lib/python3.11/site-packages (from pydantic>1->open-inference-openapi) (4.12.2)\n",
      "Requirement already satisfied: anyio in /usr/local/lib/python3.11/site-packages (from httpx->open-inference-openapi) (4.7.0)\n",
      "Requirement already satisfied: certifi in /usr/local/lib/python3.11/site-packages (from httpx->open-inference-openapi) (2024.7.4)\n",
      "Requirement already satisfied: httpcore==1.* in /usr/local/lib/python3.11/site-packages (from httpx->open-inference-openapi) (1.0.7)\n",
      "Requirement already satisfied: idna in /usr/local/lib/python3.11/site-packages (from httpx->open-inference-openapi) (3.7)\n",
      "Requirement already satisfied: sniffio in /usr/local/lib/python3.11/site-packages (from httpx->open-inference-openapi) (1.3.1)\n",
      "Requirement already satisfied: h11<0.15,>=0.13 in /usr/local/lib/python3.11/site-packages (from httpcore==1.*->httpx->open-inference-openapi) (0.14.0)\n",
      "Using cached open_inference_openapi-2.0.0.1-py3-none-any.whl (29 kB)\n",
      "Installing collected packages: open-inference-openapi\n",
      "Successfully installed open-inference-openapi-2.0.0.1\n"
     ]
    }
   ],
   "source": [
    "!pip3 install open-inference-openapi \n",
    "#!pip3 install httpx uvicorn"
   ]
  },
  {
   "cell_type": "markdown",
   "id": "f400c55f-cdf5-4358-afb5-cc1e6d2820b0",
   "metadata": {},
   "source": [
    "### Deploy the Model to CAI Inference Service"
   ]
  },
  {
   "cell_type": "code",
   "execution_count": 6,
   "id": "2e54cdd2-34d7-4617-a25b-40e3dc60a094",
   "metadata": {},
   "outputs": [],
   "source": [
    "myToken = \"\""
   ]
  },
  {
   "cell_type": "code",
   "execution_count": 7,
   "id": "81835931-0321-4f86-b050-3d17b8361a21",
   "metadata": {},
   "outputs": [],
   "source": [
    "import json\n",
    "import httpx\n",
    "\n",
    "#JWT = json.load(open(\"/tmp/jwt\"))[\"access_token\"]\n",
    "JWT = myToken\n",
    "headers = {'Authorization': 'Bearer ' + JWT,\n",
    "           'Content-Type': 'application/json'}\n",
    "\n",
    "httpx_client = httpx.Client(headers=headers)"
   ]
  },
  {
   "cell_type": "code",
   "execution_count": 8,
   "id": "536d374d-590e-44a3-9469-f1f45601707f",
   "metadata": {},
   "outputs": [
    {
     "data": {
      "text/plain": [
       "<Response [200 OK]>"
      ]
     },
     "execution_count": 8,
     "metadata": {},
     "output_type": "execute_result"
    }
   ],
   "source": [
    "CAII_DOMAIN_URL = 'https://ml-cfe35b45-935.rapids-d.a465-9q4k.cloudera.site'\n",
    "\n",
    "deploy_payload = {\n",
    " \"namespace\": \"serving-default\",\n",
    " \"name\": \"Paul Onnx Xgboost\",\n",
    " \"source\": {\n",
    "   \"registry_source\": {\n",
    "      \"model_id\": \"zjrw-n7gg-6v8g-m2ic\",\n",
    "      \"version\": 1\n",
    "    }\n",
    "  },\n",
    " \"resources\": {\n",
    "    \"req_cpu\": \"2\",\n",
    "    \"req_memory\": \"8Gi\"\n",
    "  },\n",
    "  \"api_standard\": \"oip\",\n",
    "  \"has_chat_template\": False,\n",
    "  \"metric_format\": \"triton\",\n",
    "  \"task\": \"INFERENCE\",\n",
    "  \"instance_type\": \"m5.4xlarge\",\n",
    " \"autoscaling\": {\n",
    "    \"min_replicas\": \"1\",\n",
    "    \"max_replicas\": \"100\"\n",
    "  }\n",
    "}\n",
    "\n",
    "r = httpx_client.post(CAII_DOMAIN_URL+'/api/v1alpha1/deployEndpoint', json=deploy_payload)\n",
    "r"
   ]
  },
  {
   "cell_type": "code",
   "execution_count": 9,
   "id": "d9862040-8388-4622-8369-07c81038e83d",
   "metadata": {},
   "outputs": [
    {
     "ename": "KeyError",
     "evalue": "'status'",
     "output_type": "error",
     "traceback": [
      "\u001b[0;31m---------------------------------------------------------------------------\u001b[0m",
      "\u001b[0;31mKeyError\u001b[0m                                  Traceback (most recent call last)",
      "Cell \u001b[0;32mIn[9], line 9\u001b[0m\n\u001b[1;32m      3\u001b[0m describe_payload \u001b[38;5;241m=\u001b[39m {\n\u001b[1;32m      4\u001b[0m     \u001b[38;5;124m\"\u001b[39m\u001b[38;5;124mnamespace\u001b[39m\u001b[38;5;124m\"\u001b[39m: \u001b[38;5;124m\"\u001b[39m\u001b[38;5;124mserving-default\u001b[39m\u001b[38;5;124m\"\u001b[39m,\n\u001b[1;32m      5\u001b[0m     \u001b[38;5;124m\"\u001b[39m\u001b[38;5;124mname\u001b[39m\u001b[38;5;124m\"\u001b[39m: \u001b[38;5;124m\"\u001b[39m\u001b[38;5;124mXGBoost Fraud Detector\u001b[39m\u001b[38;5;124m\"\u001b[39m\n\u001b[1;32m      6\u001b[0m }\n\u001b[1;32m      8\u001b[0m r \u001b[38;5;241m=\u001b[39m httpx_client\u001b[38;5;241m.\u001b[39mpost(CAII_DOMAIN_URL\u001b[38;5;241m+\u001b[39m\u001b[38;5;124m'\u001b[39m\u001b[38;5;124m/api/v1alpha1/describeEndpoint\u001b[39m\u001b[38;5;124m'\u001b[39m, json\u001b[38;5;241m=\u001b[39mdescribe_payload)\n\u001b[0;32m----> 9\u001b[0m status \u001b[38;5;241m=\u001b[39m \u001b[43mr\u001b[49m\u001b[38;5;241;43m.\u001b[39;49m\u001b[43mjson\u001b[49m\u001b[43m(\u001b[49m\u001b[43m)\u001b[49m\u001b[43m[\u001b[49m\u001b[38;5;124;43m'\u001b[39;49m\u001b[38;5;124;43mstatus\u001b[39;49m\u001b[38;5;124;43m'\u001b[39;49m\u001b[43m]\u001b[49m\n\u001b[1;32m     10\u001b[0m response \u001b[38;5;241m=\u001b[39m json\u001b[38;5;241m.\u001b[39mdumps(r\u001b[38;5;241m.\u001b[39mjson(), indent\u001b[38;5;241m=\u001b[39m\u001b[38;5;241m2\u001b[39m)\n\u001b[1;32m     11\u001b[0m \u001b[38;5;28mprint\u001b[39m(response)\n",
      "\u001b[0;31mKeyError\u001b[0m: 'status'"
     ]
    }
   ],
   "source": [
    "CAII_DOMAIN_URL = 'https://ml-cfe35b45-935.rapids-d.a465-9q4k.cloudera.site'\n",
    "# Wait for the endpoint to be ready\n",
    "describe_payload = {\n",
    "    \"namespace\": \"serving-default\",\n",
    "    \"name\": \"XGBoost Fraud Detector\"\n",
    "}\n",
    "\n",
    "r = httpx_client.post(CAII_DOMAIN_URL+'/api/v1alpha1/describeEndpoint', json=describe_payload)\n",
    "status = r.json()['status']\n",
    "response = json.dumps(r.json(), indent=2)\n",
    "print(response)\n",
    "\n",
    "# Want target_model_state to get to 'Loaded'\n",
    "status['target_model_state']"
   ]
  },
  {
   "cell_type": "code",
   "execution_count": 10,
   "id": "04eadf7c-ccb2-4be1-ad4f-430d4948c676",
   "metadata": {},
   "outputs": [
    {
     "data": {
      "text/plain": [
       "<Response [404 Not Found]>"
      ]
     },
     "execution_count": 10,
     "metadata": {},
     "output_type": "execute_result"
    }
   ],
   "source": [
    "r"
   ]
  },
  {
   "cell_type": "code",
   "execution_count": null,
   "id": "47c6fdb6-355b-4355-b4df-f1d3d63e14c6",
   "metadata": {},
   "outputs": [],
   "source": []
  }
 ],
 "metadata": {
  "kernelspec": {
   "display_name": "Python 3 (ipykernel)",
   "language": "python",
   "name": "python3"
  },
  "language_info": {
   "codemirror_mode": {
    "name": "ipython",
    "version": 3
   },
   "file_extension": ".py",
   "mimetype": "text/x-python",
   "name": "python",
   "nbconvert_exporter": "python",
   "pygments_lexer": "ipython3",
   "version": "3.11.11"
  }
 },
 "nbformat": 4,
 "nbformat_minor": 5
}
