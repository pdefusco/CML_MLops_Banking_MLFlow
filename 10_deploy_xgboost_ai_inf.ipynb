{
 "cells": [
  {
   "cell_type": "code",
   "execution_count": 1,
   "id": "433c9253-68a8-4094-9ad3-bc81dc36517a",
   "metadata": {},
   "outputs": [],
   "source": [
    "#****************************************************************************\n",
    "# (C) Cloudera, Inc. 2020-2023\n",
    "#  All rights reserved.\n",
    "#\n",
    "#  Applicable Open Source License: GNU Affero General Public License v3.0\n",
    "#\n",
    "#  NOTE: Cloudera open source products are modular software products\n",
    "#  made up of hundreds of individual components, each of which was\n",
    "#  individually copyrighted.  Each Cloudera open source product is a\n",
    "#  collective work under U.S. Copyright Law. Your license to use the\n",
    "#  collective work is as provided in your written agreement with\n",
    "#  Cloudera.  Used apart from the collective work, this file is\n",
    "#  licensed for your use pursuant to the open source license\n",
    "#  identified above.\n",
    "#\n",
    "#  This code is provided to you pursuant a written agreement with\n",
    "#  (i) Cloudera, Inc. or (ii) a third-party authorized to distribute\n",
    "#  this code. If you do not have a written agreement with Cloudera nor\n",
    "#  with an authorized and properly licensed third party, you do not\n",
    "#  have any rights to access nor to use this code.\n",
    "#\n",
    "#  Absent a written agreement with Cloudera, Inc. (“Cloudera”) to the\n",
    "#  contrary, A) CLOUDERA PROVIDES THIS CODE TO YOU WITHOUT WARRANTIES OF ANY\n",
    "#  KIND; (B) CLOUDERA DISCLAIMS ANY AND ALL EXPRESS AND IMPLIED\n",
    "#  WARRANTIES WITH RESPECT TO THIS CODE, INCLUDING BUT NOT LIMITED TO\n",
    "#  IMPLIED WARRANTIES OF TITLE, NON-INFRINGEMENT, MERCHANTABILITY AND\n",
    "#  FITNESS FOR A PARTICULAR PURPOSE; (C) CLOUDERA IS NOT LIABLE TO YOU,\n",
    "#  AND WILL NOT DEFEND, INDEMNIFY, NOR HOLD YOU HARMLESS FOR ANY CLAIMS\n",
    "#  ARISING FROM OR RELATED TO THE CODE; AND (D)WITH RESPECT TO YOUR EXERCISE\n",
    "#  OF ANY RIGHTS GRANTED TO YOU FOR THE CODE, CLOUDERA IS NOT LIABLE FOR ANY\n",
    "#  DIRECT, INDIRECT, INCIDENTAL, SPECIAL, EXEMPLARY, PUNITIVE OR\n",
    "#  CONSEQUENTIAL DAMAGES INCLUDING, BUT NOT LIMITED TO, DAMAGES\n",
    "#  RELATED TO LOST REVENUE, LOST PROFITS, LOSS OF INCOME, LOSS OF\n",
    "#  BUSINESS ADVANTAGE OR UNAVAILABILITY, OR LOSS OR CORRUPTION OF\n",
    "#  DATA.\n",
    "#\n",
    "# #  Author(s): Paul de Fusco\n",
    "#***************************************************************************/"
   ]
  },
  {
   "cell_type": "code",
   "execution_count": 1,
   "id": "e5c492c3-1adc-4123-b010-224669161611",
   "metadata": {},
   "outputs": [
    {
     "name": "stdout",
     "output_type": "stream",
     "text": [
      "Collecting open-inference-openapi\n",
      "  Downloading open_inference_openapi-2.0.0.1-py3-none-any.whl.metadata (5.6 kB)\n",
      "Requirement already satisfied: httpx in /usr/local/lib/python3.11/site-packages (from open-inference-openapi) (0.27.2)\n",
      "Requirement already satisfied: pydantic>1 in /usr/local/lib/python3.11/site-packages (from open-inference-openapi) (2.10.2)\n",
      "Requirement already satisfied: annotated-types>=0.6.0 in /usr/local/lib/python3.11/site-packages (from pydantic>1->open-inference-openapi) (0.7.0)\n",
      "Requirement already satisfied: pydantic-core==2.27.1 in /usr/local/lib/python3.11/site-packages (from pydantic>1->open-inference-openapi) (2.27.1)\n",
      "Requirement already satisfied: typing-extensions>=4.12.2 in /usr/local/lib/python3.11/site-packages (from pydantic>1->open-inference-openapi) (4.12.2)\n",
      "Requirement already satisfied: anyio in /usr/local/lib/python3.11/site-packages (from httpx->open-inference-openapi) (4.7.0)\n",
      "Requirement already satisfied: certifi in /usr/local/lib/python3.11/site-packages (from httpx->open-inference-openapi) (2024.7.4)\n",
      "Requirement already satisfied: httpcore==1.* in /usr/local/lib/python3.11/site-packages (from httpx->open-inference-openapi) (1.0.7)\n",
      "Requirement already satisfied: idna in /usr/local/lib/python3.11/site-packages (from httpx->open-inference-openapi) (3.7)\n",
      "Requirement already satisfied: sniffio in /usr/local/lib/python3.11/site-packages (from httpx->open-inference-openapi) (1.3.1)\n",
      "Requirement already satisfied: h11<0.15,>=0.13 in /usr/local/lib/python3.11/site-packages (from httpcore==1.*->httpx->open-inference-openapi) (0.14.0)\n",
      "Downloading open_inference_openapi-2.0.0.1-py3-none-any.whl (29 kB)\n",
      "Installing collected packages: open-inference-openapi\n",
      "Successfully installed open-inference-openapi-2.0.0.1\n"
     ]
    }
   ],
   "source": [
    "!pip3 install open-inference-openapi"
   ]
  },
  {
   "cell_type": "code",
   "execution_count": 5,
   "id": "5415206f-922e-4e93-b038-66602f75c997",
   "metadata": {},
   "outputs": [
    {
     "ename": "KeyError",
     "evalue": "'models'",
     "output_type": "error",
     "traceback": [
      "\u001b[0;31m---------------------------------------------------------------------------\u001b[0m",
      "\u001b[0;31mKeyError\u001b[0m                                  Traceback (most recent call last)",
      "Cell \u001b[0;32mIn[5], line 19\u001b[0m\n\u001b[1;32m     17\u001b[0m r \u001b[38;5;241m=\u001b[39m httpx_client\u001b[38;5;241m.\u001b[39mget(MODEL_REGISTRY_URL\u001b[38;5;241m+\u001b[39m\u001b[38;5;124m'\u001b[39m\u001b[38;5;124m/api/v1alpha1/deployEndpoint\u001b[39m\u001b[38;5;124m'\u001b[39m)\n\u001b[1;32m     18\u001b[0m models \u001b[38;5;241m=\u001b[39m r\u001b[38;5;241m.\u001b[39mjson()\n\u001b[0;32m---> 19\u001b[0m mm \u001b[38;5;241m=\u001b[39m \u001b[43mmodels\u001b[49m\u001b[43m[\u001b[49m\u001b[38;5;124;43m'\u001b[39;49m\u001b[38;5;124;43mmodels\u001b[39;49m\u001b[38;5;124;43m'\u001b[39;49m\u001b[43m]\u001b[49m\n\u001b[1;32m     21\u001b[0m my_model \u001b[38;5;241m=\u001b[39m {}\n\u001b[1;32m     22\u001b[0m \u001b[38;5;28;01mfor\u001b[39;00m m \u001b[38;5;129;01min\u001b[39;00m mm:\n",
      "\u001b[0;31mKeyError\u001b[0m: 'models'"
     ]
    }
   ],
   "source": [
    "from open_inference.openapi.client import OpenInferenceClient, InferenceRequest\n",
    "import httpx\n",
    "import requests\n",
    "import json\n",
    "\n",
    "# Another option is to set this in the project or user environment\n",
    "MODEL_REGISTRY_URL='https://modelregistry.ml-1c1b0745-332.go01-dem.ylcu-atmi.cloudera.site'\n",
    "\n",
    "# This comes from the experiment run output above\n",
    "MODEL_VERSION = 4\n",
    "\n",
    "JWT = json.load(open(\"/tmp/jwt\"))[\"access_token\"]\n",
    "headers = {'Authorization': 'Bearer ' + JWT,\n",
    "           'Content-Type': 'application/json'}\n",
    "\n",
    "httpx_client = httpx.Client(headers=headers)\n",
    "r = httpx_client.get(MODEL_REGISTRY_URL+'/api/v1alpha1/deployEndpoint')\n",
    "models = r.json()\n",
    "mm = models['models']\n",
    "\n",
    "my_model = {}\n",
    "for m in mm:\n",
    "    if m['name'] == 'fraud-detector-onnx-xgboost':\n",
    "        my_model = m\n",
    "        break\n",
    "MODEL_ID = my_model['id']\n",
    "MODEL_ID"
   ]
  },
  {
   "cell_type": "code",
   "execution_count": 6,
   "id": "05a29ed3-0ba5-4e4c-9f54-fd5313f6cf6e",
   "metadata": {},
   "outputs": [
    {
     "data": {
      "text/plain": [
       "{'code': 404, 'message': 'path /api/v1alpha1/deployEndpoint was not found'}"
      ]
     },
     "execution_count": 6,
     "metadata": {},
     "output_type": "execute_result"
    }
   ],
   "source": [
    "models"
   ]
  },
  {
   "cell_type": "markdown",
   "id": "f400c55f-cdf5-4358-afb5-cc1e6d2820b0",
   "metadata": {},
   "source": [
    "### Deploy the Model to CAI Inference Service"
   ]
  },
  {
   "cell_type": "code",
   "execution_count": 7,
   "id": "81835931-0321-4f86-b050-3d17b8361a21",
   "metadata": {},
   "outputs": [],
   "source": [
    "JWT = json.load(open(\"/tmp/jwt\"))[\"access_token\"]\n",
    "headers = {'Authorization': 'Bearer ' + JWT,\n",
    "           'Content-Type': 'application/json'}\n",
    "\n",
    "httpx_client = httpx.Client(headers=headers)"
   ]
  },
  {
   "cell_type": "code",
   "execution_count": 8,
   "id": "536d374d-590e-44a3-9469-f1f45601707f",
   "metadata": {},
   "outputs": [
    {
     "data": {
      "text/plain": [
       "<Response [500 Internal Server Error]>"
      ]
     },
     "execution_count": 8,
     "metadata": {},
     "output_type": "execute_result"
    }
   ],
   "source": [
    "CAII_DOMAIN_URL = 'https://ml-2dad9e26-62f.go01-dem.ylcu-atmi.cloudera.site'\n",
    "\n",
    "deploy_payload = {\n",
    " \"namespace\": \"serving-default\",\n",
    " \"name\": \"Paul Onnx Xgboost\",\n",
    " \"source\": {\n",
    "   \"registry_source\": {\n",
    "      \"model_id\": \"3yss-zkky-xrp6-i51n\",\n",
    "      \"version\": 4\n",
    "    }\n",
    "  },\n",
    " \"resources\": {\n",
    "    \"req_cpu\": \"2\",\n",
    "    \"req_memory\": \"8Gi\"\n",
    "  },\n",
    "  \"api_standard\": \"oip\",\n",
    "  \"has_chat_template\": False,\n",
    "  \"metric_format\": \"triton\",\n",
    "  \"task\": \"INFERENCE\",\n",
    "  \"instance_type\": \"m5.4xlarge\",\n",
    " \"autoscaling\": {\n",
    "    \"min_replicas\": \"1\",\n",
    "    \"max_replicas\": \"100\"\n",
    "  }\n",
    "}\n",
    "\n",
    "r = httpx_client.post(CAII_DOMAIN_URL+'/api/v1alpha1/deployEndpoint', json=deploy_payload)\n",
    "r"
   ]
  },
  {
   "cell_type": "code",
   "execution_count": 4,
   "id": "d9862040-8388-4622-8369-07c81038e83d",
   "metadata": {},
   "outputs": [
    {
     "name": "stdout",
     "output_type": "stream",
     "text": [
      "{\n",
      "  \"namespace\": \"serving-default\",\n",
      "  \"name\": \"XGBoost Fraud Detector\",\n",
      "  \"url\": \"https://ml-2dad9e26-62f.go01-dem.ylcu-atmi.cloudera.site/namespaces/serving-default/endpoints/xgboost-fraud-detector/v2/models/3yss-zkky-xrp6-i51n/infer\",\n",
      "  \"conditions\": [\n",
      "    {\n",
      "      \"type\": \"IngressReady\",\n",
      "      \"status\": \"True\",\n",
      "      \"severity\": \"\",\n",
      "      \"last_transition_time\": \"1742515403\",\n",
      "      \"reason\": \"\",\n",
      "      \"message\": \"\"\n",
      "    },\n",
      "    {\n",
      "      \"type\": \"LatestDeploymentReady\",\n",
      "      \"status\": \"True\",\n",
      "      \"severity\": \"Info\",\n",
      "      \"last_transition_time\": \"1742515403\",\n",
      "      \"reason\": \"\",\n",
      "      \"message\": \"\"\n",
      "    },\n",
      "    {\n",
      "      \"type\": \"PredictorConfigurationReady\",\n",
      "      \"status\": \"True\",\n",
      "      \"severity\": \"Info\",\n",
      "      \"last_transition_time\": \"1742515403\",\n",
      "      \"reason\": \"\",\n",
      "      \"message\": \"\"\n",
      "    },\n",
      "    {\n",
      "      \"type\": \"PredictorReady\",\n",
      "      \"status\": \"True\",\n",
      "      \"severity\": \"\",\n",
      "      \"last_transition_time\": \"1742515403\",\n",
      "      \"reason\": \"\",\n",
      "      \"message\": \"\"\n",
      "    },\n",
      "    {\n",
      "      \"type\": \"PredictorRouteReady\",\n",
      "      \"status\": \"True\",\n",
      "      \"severity\": \"Info\",\n",
      "      \"last_transition_time\": \"1742515403\",\n",
      "      \"reason\": \"\",\n",
      "      \"message\": \"\"\n",
      "    },\n",
      "    {\n",
      "      \"type\": \"Ready\",\n",
      "      \"status\": \"True\",\n",
      "      \"severity\": \"\",\n",
      "      \"last_transition_time\": \"1742515403\",\n",
      "      \"reason\": \"\",\n",
      "      \"message\": \"\"\n",
      "    },\n",
      "    {\n",
      "      \"type\": \"RoutesReady\",\n",
      "      \"status\": \"True\",\n",
      "      \"severity\": \"Info\",\n",
      "      \"last_transition_time\": \"1742515403\",\n",
      "      \"reason\": \"\",\n",
      "      \"message\": \"\"\n",
      "    }\n",
      "  ],\n",
      "  \"status\": {\n",
      "    \"failed_copies\": 0,\n",
      "    \"total_copies\": 1,\n",
      "    \"active_model_state\": \"Loaded\",\n",
      "    \"target_model_state\": \"Loaded\",\n",
      "    \"transition_status\": \"UpToDate\"\n",
      "  },\n",
      "  \"observed_generation\": 1,\n",
      "  \"replica_count\": 1,\n",
      "  \"created_by\": \"pauldefusco\",\n",
      "  \"description\": \"\",\n",
      "  \"created_at\": \"2025-03-21T00:03:09Z\",\n",
      "  \"resources\": {\n",
      "    \"req_cpu\": \"4\",\n",
      "    \"req_memory\": \"8Gi\",\n",
      "    \"num_gpus\": \"\"\n",
      "  },\n",
      "  \"revisions\": [\n",
      "    {\n",
      "      \"source\": {\n",
      "        \"registry_source\": {\n",
      "          \"model_id\": \"3yss-zkky-xrp6-i51n\",\n",
      "          \"version\": 3\n",
      "        }\n",
      "      },\n",
      "      \"metadata\": {\n",
      "        \"name\": \"xgboost-fraud-detector-predictor-00001\",\n",
      "        \"traffic\": 100,\n",
      "        \"desired_replicas\": 1,\n",
      "        \"actual_replicas\": 1,\n",
      "        \"ready\": true,\n",
      "        \"failed\": false,\n",
      "        \"generation\": \"1\",\n",
      "        \"conditions\": [\n",
      "          {\n",
      "            \"type\": \"Active\",\n",
      "            \"status\": \"True\",\n",
      "            \"severity\": \"Info\",\n",
      "            \"last_transition_time\": \"1742515403\",\n",
      "            \"reason\": \"\",\n",
      "            \"message\": \"\"\n",
      "          },\n",
      "          {\n",
      "            \"type\": \"ContainerHealthy\",\n",
      "            \"status\": \"True\",\n",
      "            \"severity\": \"\",\n",
      "            \"last_transition_time\": \"1742515403\",\n",
      "            \"reason\": \"\",\n",
      "            \"message\": \"\"\n",
      "          },\n",
      "          {\n",
      "            \"type\": \"Ready\",\n",
      "            \"status\": \"True\",\n",
      "            \"severity\": \"\",\n",
      "            \"last_transition_time\": \"1742515403\",\n",
      "            \"reason\": \"\",\n",
      "            \"message\": \"\"\n",
      "          },\n",
      "          {\n",
      "            \"type\": \"ResourcesAvailable\",\n",
      "            \"status\": \"True\",\n",
      "            \"severity\": \"\",\n",
      "            \"last_transition_time\": \"1742515390\",\n",
      "            \"reason\": \"\",\n",
      "            \"message\": \"\"\n",
      "          }\n",
      "        ],\n",
      "        \"replica_names\": [\n",
      "          \"xgboost-fraud-detector-predictor-00001-deployment-646685b6x8vzz\"\n",
      "        ]\n",
      "      }\n",
      "    }\n",
      "  ],\n",
      "  \"autoscaling\": {\n",
      "    \"min_replicas\": \"1\",\n",
      "    \"max_replicas\": \"3\",\n",
      "    \"autoscaling_config\": {\n",
      "      \"metric\": \"\",\n",
      "      \"target\": \"\",\n",
      "      \"target_utilization\": \"\",\n",
      "      \"scale_to_zero_retention\": \"\",\n",
      "      \"activation_scale\": \"\",\n",
      "      \"scale_down_delay\": \"\",\n",
      "      \"panic_window_percentage\": \"\",\n",
      "      \"panic_threshold\": \"\",\n",
      "      \"stable_window\": \"\"\n",
      "    }\n",
      "  },\n",
      "  \"relevant_revisions\": {\n",
      "    \"latest_created_revision\": \"xgboost-fraud-detector-predictor-00001\",\n",
      "    \"latest_ready_revision\": \"xgboost-fraud-detector-predictor-00001\",\n",
      "    \"latest_rolledout_revision\": \"xgboost-fraud-detector-predictor-00001\",\n",
      "    \"previous_rolledout_revision\": \"\"\n",
      "  },\n",
      "  \"model_name\": \"3yss-zkky-xrp6-i51n\",\n",
      "  \"traffic\": {\n",
      "    \"current_revision_traffic\": \"100\",\n",
      "    \"previous_revision_traffic\": \"0\"\n",
      "  },\n",
      "  \"api_standard\": \"oip\",\n",
      "  \"has_chat_template\": false,\n",
      "  \"metric_format\": \"triton\",\n",
      "  \"task\": \"INFERENCE\",\n",
      "  \"instance_type\": \"m5.4xlarge\"\n",
      "}\n"
     ]
    },
    {
     "data": {
      "text/plain": [
       "'Loaded'"
      ]
     },
     "execution_count": 4,
     "metadata": {},
     "output_type": "execute_result"
    }
   ],
   "source": [
    "CAII_DOMAIN_URL = 'https://ml-2dad9e26-62f.go01-dem.ylcu-atmi.cloudera.site'\n",
    "# Wait for the endpoint to be ready\n",
    "describe_payload = {\n",
    "    \"namespace\": \"serving-default\",\n",
    "    \"name\": \"XGBoost Fraud Detector\"\n",
    "}\n",
    "\n",
    "r = httpx_client.post(CAII_DOMAIN_URL+'/api/v1alpha1/describeEndpoint', json=describe_payload)\n",
    "status = r.json()['status']\n",
    "response = json.dumps(r.json(), indent=2)\n",
    "print(response)\n",
    "\n",
    "# Want target_model_state to get to 'Loaded'\n",
    "status['target_model_state']"
   ]
  },
  {
   "cell_type": "code",
   "execution_count": 38,
   "id": "04eadf7c-ccb2-4be1-ad4f-430d4948c676",
   "metadata": {},
   "outputs": [
    {
     "data": {
      "text/plain": [
       "<Response [404 Not Found]>"
      ]
     },
     "execution_count": 38,
     "metadata": {},
     "output_type": "execute_result"
    }
   ],
   "source": [
    "r"
   ]
  },
  {
   "cell_type": "code",
   "execution_count": null,
   "id": "47c6fdb6-355b-4355-b4df-f1d3d63e14c6",
   "metadata": {},
   "outputs": [],
   "source": []
  }
 ],
 "metadata": {
  "kernelspec": {
   "display_name": "Python 3 (ipykernel)",
   "language": "python",
   "name": "python3"
  },
  "language_info": {
   "codemirror_mode": {
    "name": "ipython",
    "version": 3
   },
   "file_extension": ".py",
   "mimetype": "text/x-python",
   "name": "python",
   "nbconvert_exporter": "python",
   "pygments_lexer": "ipython3",
   "version": "3.11.11"
  }
 },
 "nbformat": 4,
 "nbformat_minor": 5
}
